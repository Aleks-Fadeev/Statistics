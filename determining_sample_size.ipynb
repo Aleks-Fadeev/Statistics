{
 "cells": [
  {
   "cell_type": "code",
   "execution_count": 1,
   "metadata": {
    "scrolled": true
   },
   "outputs": [],
   "source": [
    "from statsmodels.stats.power import TTestIndPower"
   ]
  },
  {
   "cell_type": "code",
   "execution_count": 13,
   "metadata": {},
   "outputs": [],
   "source": [
    "# счиатем среднее и стандартное отклонение на имеющихся данных на периоде 2-5 недель\n",
    "mu_control, sigma_control = 100, 2\n",
    "# задаём lift - значение прироста средней величины в тестовой выборке которое хотим детектить \n",
    "# от 0,01 (соответствует 1%) до 1 (соответствует 100%)\n",
    "lift = 0.001 #хотим детектить 0,1% прироста"
   ]
  },
  {
   "cell_type": "code",
   "execution_count": 14,
   "metadata": {
    "scrolled": true
   },
   "outputs": [
    {
     "data": {
      "text/plain": [
       "0.05"
      ]
     },
     "execution_count": 14,
     "metadata": {},
     "output_type": "execute_result"
    }
   ],
   "source": [
    "# рассчитываем effect_size - величина прироста средней величины в размерности стандартного отклонения\n",
    "effect_size = mu_control * lift / sigma_control\n",
    "effect_size"
   ]
  },
  {
   "cell_type": "code",
   "execution_count": 15,
   "metadata": {},
   "outputs": [],
   "source": [
    "# # Можно найти размер выборки задав явно среднее значение в тестовой выборке, которое хотим найти \n",
    "# mu_control,    sigma_control    = 100, 2\n",
    "# mu_experiment, sigma_experiment = 100.1, 2\n",
    "# # стандартизированный размер эффекта, разница между двумя средними значениями, деленная на стандартное отклонение. \n",
    "# # effect_size должен быть положительным. \n",
    "# effect_size = (mu_experiment - mu_control) / ((sigma_control**2 + sigma_experiment**2) / 2) ** 0.5\n",
    "# effect_size"
   ]
  },
  {
   "cell_type": "code",
   "execution_count": 16,
   "metadata": {
    "scrolled": true
   },
   "outputs": [
    {
     "name": "stdout",
     "output_type": "stream",
     "text": [
      "Sample Size: 6280.049\n"
     ]
    }
   ],
   "source": [
    "### 1 способ\n",
    "# задаём параметры для TTestIndPower(): эффект, альфу и мощность\n",
    "effect = effect_size\n",
    "alpha = 0.05\n",
    "power = 0.8\n",
    "# вычисляем необходимый размер суммарной выборки (для двух групп вместе) \n",
    "analysis = TTestIndPower()\n",
    "result = analysis.solve_power(effect, power=power, nobs1=None, ratio=1.0, alpha=alpha)\n",
    "print('Sample Size: %.3f' % result)"
   ]
  },
  {
   "cell_type": "code",
   "execution_count": 17,
   "metadata": {
    "scrolled": true
   },
   "outputs": [
    {
     "name": "stdout",
     "output_type": "stream",
     "text": [
      "6280.048916291406\n"
     ]
    }
   ],
   "source": [
    "### 2 способ\n",
    "from statsmodels.stats.power import tt_ind_solve_power \n",
    "mean = mu_control # рассчитанное среднее за 2-5 недель\n",
    "sd = sigma_control # рассчитанное стандартное отклонение за тот же период\n",
    "power = 0.8\n",
    "alpha = 0.05\n",
    "lift = lift\n",
    "effect_size = mean * lift / sd \n",
    "\n",
    "# Результат – количество наблюдений на одну выборку (для получения полного объёма выборки умножаем на 2)\n",
    "print(\n",
    "   tt_ind_solve_power(effect_size=effect_size, alpha=alpha, power=power, nobs1=None, ratio=1)\n",
    ")"
   ]
  },
  {
   "cell_type": "code",
   "execution_count": null,
   "metadata": {},
   "outputs": [],
   "source": []
  },
  {
   "cell_type": "code",
   "execution_count": 18,
   "metadata": {},
   "outputs": [
    {
     "name": "stdout",
     "output_type": "stream",
     "text": [
      "0.050000634748801086\n"
     ]
    }
   ],
   "source": [
    "# можно зная размер выборки определить размер эффекта, который можно засечь на такой выборке\n",
    "from statsmodels.stats.power import tt_ind_solve_power \n",
    "nobs = 6280 # возьмем то же самое число, что в прошлом примере\n",
    "power = 0.8\n",
    "alpha = 0.05\n",
    "\n",
    "# Результат – допустимый минимальный effect_size\n",
    "effect_size = tt_ind_solve_power(effect_size=None, alpha=alpha, power=power, nobs1=nobs, ratio=1)\n",
    "print(effect_size)"
   ]
  },
  {
   "cell_type": "code",
   "execution_count": 19,
   "metadata": {},
   "outputs": [
    {
     "data": {
      "text/plain": [
       "0.0010000126949760218"
      ]
     },
     "execution_count": 19,
     "metadata": {},
     "output_type": "execute_result"
    }
   ],
   "source": [
    "# И можно рассчитать значение прироста, которое детектируем\n",
    "lift = effect_size * sigma_control / mu_control\n",
    "lift"
   ]
  },
  {
   "cell_type": "code",
   "execution_count": null,
   "metadata": {},
   "outputs": [],
   "source": [
    "### функция tt_ind_solve_power(effect_size=None, alpha=alpha, power=power, nobs1=nobs, ratio=1) \n",
    "### возвращает аргумент равный None. \n",
    "### Соответственно зная три из четырёх (effect_size, alpha, power, nobs1) можем определять неизвестный "
   ]
  },
  {
   "cell_type": "code",
   "execution_count": null,
   "metadata": {},
   "outputs": [],
   "source": []
  },
  {
   "cell_type": "code",
   "execution_count": 23,
   "metadata": {},
   "outputs": [
    {
     "name": "stdout",
     "output_type": "stream",
     "text": [
      "4720\n"
     ]
    }
   ],
   "source": [
    "# Расчёт выборки для конверсии\n",
    "import statsmodels.stats.api as sms\n",
    "from math import ceil\n",
    "\n",
    "effect_size = sms.proportion_effectsize(0.13, 0.15)    # расчёт размера эффекта\n",
    "\n",
    "required_n = sms.NormalIndPower().solve_power(\n",
    "    effect_size, \n",
    "    power=0.8, \n",
    "    alpha=0.05, \n",
    "    ratio=1\n",
    "    )                                                  # расчёт требуемого размера выборки\n",
    "\n",
    "required_n = ceil(required_n)                          # округляем до ближайшего целого числа                          \n",
    "\n",
    "print(required_n)"
   ]
  },
  {
   "cell_type": "code",
   "execution_count": null,
   "metadata": {},
   "outputs": [],
   "source": []
  }
 ],
 "metadata": {
  "kernelspec": {
   "display_name": "Python 3",
   "language": "python",
   "name": "python3"
  },
  "language_info": {
   "codemirror_mode": {
    "name": "ipython",
    "version": 3
   },
   "file_extension": ".py",
   "mimetype": "text/x-python",
   "name": "python",
   "nbconvert_exporter": "python",
   "pygments_lexer": "ipython3",
   "version": "3.8.5"
  }
 },
 "nbformat": 4,
 "nbformat_minor": 2
}
